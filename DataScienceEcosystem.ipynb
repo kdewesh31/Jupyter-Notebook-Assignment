{
 "cells": [
  {
   "cell_type": "markdown",
   "id": "8dc4d61a-9028-4518-b849-e0f249e56903",
   "metadata": {
    "panel-layout": {
     "height": 68,
     "visible": true,
     "width": 100
    }
   },
   "source": [
    "# Data Science Tools and Ecosystem"
   ]
  },
  {
   "cell_type": "markdown",
   "id": "98b8cc36-3419-4934-9dff-c39896925105",
   "metadata": {
    "panel-layout": {
     "height": 51,
     "visible": true,
     "width": 100
    }
   },
   "source": [
    "In this notebook, Data Science Tools and Ecosystem are summarized."
   ]
  },
  {
   "cell_type": "markdown",
   "id": "89101950-b0ce-42b9-aeac-f013009e3a3a",
   "metadata": {},
   "source": [
    "**Objectives:** Objective of this notebook is to give an overview of Data Science. We will be covering elements like:-\n",
    "* Popular Data Science Language\n",
    "* Popular Data Science Tools\n",
    "* Data Science Libraries\n",
    "* Basic arithmetic operations"
   ]
  },
  {
   "cell_type": "markdown",
   "id": "bca948be-f3d0-4e7f-bc20-35af1f7a1006",
   "metadata": {
    "panel-layout": {
     "height": 131.5625,
     "visible": true,
     "width": 100
    }
   },
   "source": [
    "Some of the popular languages that Data Scientists use are:\n",
    "1. Python\n",
    "2. R\n",
    "3. SQL\n",
    "4. C/C++"
   ]
  },
  {
   "cell_type": "markdown",
   "id": "291b90ff-6818-45ee-a7a7-f82824762879",
   "metadata": {
    "panel-layout": {
     "height": 131.5625,
     "visible": true,
     "width": 100
    }
   },
   "source": [
    "Some of the commonly used libraries used by Data Scientists include:\n",
    "1. NumPy\n",
    "2. Matplotlib\n",
    "3. TensorFlow\n",
    "4. Seaborn"
   ]
  },
  {
   "cell_type": "markdown",
   "id": "fe490b1c-d6f7-4822-a9bb-2fa2955f19a8",
   "metadata": {
    "panel-layout": {
     "height": 10,
     "visible": true,
     "width": 100
    }
   },
   "source": [
    "|Data Science Tools|\n",
    "|------------------|\n",
    "|Python|\n",
    "|R|\n",
    "|Pandas|"
   ]
  },
  {
   "cell_type": "markdown",
   "id": "7006e605-f5cd-40f4-a881-6cc7418a3c12",
   "metadata": {},
   "source": [
    "### Below are a few examples of evaluating arithmetic expressions in Python"
   ]
  },
  {
   "cell_type": "code",
   "execution_count": 5,
   "id": "7daf7de0-e4e5-4495-b2f0-25450cf71154",
   "metadata": {},
   "outputs": [
    {
     "data": {
      "text/plain": [
       "17"
      ]
     },
     "execution_count": 5,
     "metadata": {},
     "output_type": "execute_result"
    }
   ],
   "source": [
    "# This a simple arithmetic expression to mutiply then add integers\n",
    "(3*4)+5"
   ]
  },
  {
   "cell_type": "code",
   "execution_count": 7,
   "id": "e1e16605-388c-4695-b43e-09f35564244c",
   "metadata": {},
   "outputs": [
    {
     "data": {
      "text/plain": [
       "3.3333333333333335"
      ]
     },
     "execution_count": 7,
     "metadata": {},
     "output_type": "execute_result"
    }
   ],
   "source": [
    "## This will convert 200 minutes to hours by diving by 60\n",
    "200/60"
   ]
  },
  {
   "cell_type": "markdown",
   "id": "515b4564-5543-42c9-babd-8bd61da3d6ac",
   "metadata": {},
   "source": [
    "## Author\n",
    "Dewesh kumar"
   ]
  }
 ],
 "metadata": {
  "kernelspec": {
   "display_name": "Python [conda env:base] *",
   "language": "python",
   "name": "conda-base-py"
  },
  "language_info": {
   "codemirror_mode": {
    "name": "ipython",
    "version": 3
   },
   "file_extension": ".py",
   "mimetype": "text/x-python",
   "name": "python",
   "nbconvert_exporter": "python",
   "pygments_lexer": "ipython3",
   "version": "3.12.7"
  },
  "panel-cell-order": [
   "8dc4d61a-9028-4518-b849-e0f249e56903",
   "98b8cc36-3419-4934-9dff-c39896925105",
   "bca948be-f3d0-4e7f-bc20-35af1f7a1006",
   "291b90ff-6818-45ee-a7a7-f82824762879",
   "fe490b1c-d6f7-4822-a9bb-2fa2955f19a8"
  ]
 },
 "nbformat": 4,
 "nbformat_minor": 5
}
